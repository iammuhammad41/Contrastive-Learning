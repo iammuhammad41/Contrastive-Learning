{
 "cells": [
  {
   "cell_type": "code",
   "execution_count": 1,
   "id": "starting-metabolism",
   "metadata": {
    "execution": {
     "iopub.execute_input": "2021-04-04T18:11:39.665567Z",
     "iopub.status.busy": "2021-04-04T18:11:39.664741Z",
     "iopub.status.idle": "2021-04-04T18:11:45.197121Z",
     "shell.execute_reply": "2021-04-04T18:11:45.195916Z"
    },
    "papermill": {
     "duration": 5.546141,
     "end_time": "2021-04-04T18:11:45.197284",
     "exception": false,
     "start_time": "2021-04-04T18:11:39.651143",
     "status": "completed"
    },
    "tags": []
   },
   "outputs": [],
   "source": [
    "import tensorflow as tf\n",
    "import tensorflow_addons as tfa\n",
    "import numpy as np\n",
    "from tensorflow import keras\n",
    "from tensorflow.keras import layers"
   ]
  },
  {
   "cell_type": "code",
   "execution_count": 2,
   "id": "atomic-intro",
   "metadata": {
    "execution": {
     "iopub.execute_input": "2021-04-04T18:11:45.219536Z",
     "iopub.status.busy": "2021-04-04T18:11:45.218906Z",
     "iopub.status.idle": "2021-04-04T18:11:48.891052Z",
     "shell.execute_reply": "2021-04-04T18:11:48.890631Z"
    },
    "papermill": {
     "duration": 3.685589,
     "end_time": "2021-04-04T18:11:48.891184",
     "exception": false,
     "start_time": "2021-04-04T18:11:45.205595",
     "status": "completed"
    },
    "tags": []
   },
   "outputs": [
    {
     "name": "stdout",
     "output_type": "stream",
     "text": [
      "Downloading data from https://www.cs.toronto.edu/~kriz/cifar-10-python.tar.gz\n",
      "170500096/170498071 [==============================] - 2s 0us/step\n",
      "x_train shape: (50000, 32, 32, 3) - y_train shape: (50000, 1)\n",
      "x_test shape: (10000, 32, 32, 3) - y_test shape: (10000, 1)\n"
     ]
    }
   ],
   "source": [
    "num_classes = 10\n",
    "input_shape = (32, 32, 3)\n",
    "\n",
    "# Load the train and test data splits\n",
    "(x_train, y_train), (x_test, y_test) = keras.datasets.cifar10.load_data()\n",
    "\n",
    "# Display shapes of train and test datasets\n",
    "print(f\"x_train shape: {x_train.shape} - y_train shape: {y_train.shape}\")\n",
    "print(f\"x_test shape: {x_test.shape} - y_test shape: {y_test.shape}\")"
   ]
  },
  {
   "cell_type": "code",
   "execution_count": 3,
   "id": "disciplinary-saying",
   "metadata": {
    "execution": {
     "iopub.execute_input": "2021-04-04T18:11:48.932624Z",
     "iopub.status.busy": "2021-04-04T18:11:48.932102Z",
     "iopub.status.idle": "2021-04-04T18:11:52.776418Z",
     "shell.execute_reply": "2021-04-04T18:11:52.775839Z"
    },
    "papermill": {
     "duration": 3.8666,
     "end_time": "2021-04-04T18:11:52.776553",
     "exception": false,
     "start_time": "2021-04-04T18:11:48.909953",
     "status": "completed"
    },
    "tags": []
   },
   "outputs": [],
   "source": [
    "data_augmentation = keras.Sequential(\n",
    "    [\n",
    "        layers.experimental.preprocessing.Normalization(),\n",
    "        layers.experimental.preprocessing.RandomFlip(\"horizontal\"),\n",
    "        layers.experimental.preprocessing.RandomRotation(0.02),\n",
    "        layers.experimental.preprocessing.RandomWidth(0.2),\n",
    "        layers.experimental.preprocessing.RandomHeight(0.2),\n",
    "    ]\n",
    ")\n",
    "\n",
    "# Setting the state of the normalization layer.\n",
    "data_augmentation.layers[0].adapt(x_train)"
   ]
  },
  {
   "cell_type": "code",
   "execution_count": 4,
   "id": "guided-glasgow",
   "metadata": {
    "execution": {
     "iopub.execute_input": "2021-04-04T18:11:52.823787Z",
     "iopub.status.busy": "2021-04-04T18:11:52.820819Z",
     "iopub.status.idle": "2021-04-04T18:11:54.416718Z",
     "shell.execute_reply": "2021-04-04T18:11:54.416077Z"
    },
    "papermill": {
     "duration": 1.621702,
     "end_time": "2021-04-04T18:11:54.416860",
     "exception": false,
     "start_time": "2021-04-04T18:11:52.795158",
     "status": "completed"
    },
    "tags": []
   },
   "outputs": [
    {
     "name": "stdout",
     "output_type": "stream",
     "text": [
      "Model: \"cifar10-encoder\"\n",
      "_________________________________________________________________\n",
      "Layer (type)                 Output Shape              Param #   \n",
      "=================================================================\n",
      "input_2 (InputLayer)         [(None, 32, 32, 3)]       0         \n",
      "_________________________________________________________________\n",
      "sequential (Sequential)      (None, None, None, 3)     7         \n",
      "_________________________________________________________________\n",
      "resnet50v2 (Functional)      (None, 2048)              23564800  \n",
      "=================================================================\n",
      "Total params: 23,564,807\n",
      "Trainable params: 23,519,360\n",
      "Non-trainable params: 45,447\n",
      "_________________________________________________________________\n"
     ]
    }
   ],
   "source": [
    "def create_encoder():\n",
    "    resnet = keras.applications.ResNet50V2(\n",
    "        include_top=False, weights=None, input_shape=input_shape, pooling=\"avg\"\n",
    "    )\n",
    "\n",
    "    inputs = keras.Input(shape=input_shape)\n",
    "    augmented = data_augmentation(inputs)\n",
    "    outputs = resnet(augmented)\n",
    "    model = keras.Model(inputs=inputs, outputs=outputs, name=\"cifar10-encoder\")\n",
    "    return model\n",
    "\n",
    "\n",
    "encoder = create_encoder()\n",
    "encoder.summary()\n"
   ]
  },
  {
   "cell_type": "code",
   "execution_count": 5,
   "id": "unlimited-dispatch",
   "metadata": {
    "execution": {
     "iopub.execute_input": "2021-04-04T18:11:54.460345Z",
     "iopub.status.busy": "2021-04-04T18:11:54.459780Z",
     "iopub.status.idle": "2021-04-04T18:11:54.463690Z",
     "shell.execute_reply": "2021-04-04T18:11:54.463235Z"
    },
    "papermill": {
     "duration": 0.028627,
     "end_time": "2021-04-04T18:11:54.463804",
     "exception": false,
     "start_time": "2021-04-04T18:11:54.435177",
     "status": "completed"
    },
    "tags": []
   },
   "outputs": [],
   "source": [
    "def create_classifier(encoder, trainable=True):\n",
    "\n",
    "    for layer in encoder.layers:\n",
    "        layer.trainable = trainable\n",
    "\n",
    "    inputs = keras.Input(shape=input_shape)\n",
    "    features = encoder(inputs)\n",
    "    features = layers.Dropout(dropout_rate)(features)\n",
    "    features = layers.Dense(hidden_units, activation=\"relu\")(features)\n",
    "    features = layers.Dropout(dropout_rate)(features)\n",
    "    outputs = layers.Dense(num_classes, activation=\"softmax\")(features)\n",
    "\n",
    "    model = keras.Model(inputs=inputs, outputs=outputs, name=\"cifar10-classifier\")\n",
    "    model.compile(\n",
    "        optimizer=keras.optimizers.Adam(learning_rate),\n",
    "        loss=keras.losses.SparseCategoricalCrossentropy(),\n",
    "        metrics=[keras.metrics.SparseCategoricalAccuracy()],\n",
    "    )\n",
    "    return model"
   ]
  },
  {
   "cell_type": "code",
   "execution_count": 6,
   "id": "round-overview",
   "metadata": {
    "execution": {
     "iopub.execute_input": "2021-04-04T18:11:54.505447Z",
     "iopub.status.busy": "2021-04-04T18:11:54.504849Z",
     "iopub.status.idle": "2021-04-04T18:11:54.508939Z",
     "shell.execute_reply": "2021-04-04T18:11:54.508368Z"
    },
    "papermill": {
     "duration": 0.026031,
     "end_time": "2021-04-04T18:11:54.509053",
     "exception": false,
     "start_time": "2021-04-04T18:11:54.483022",
     "status": "completed"
    },
    "tags": []
   },
   "outputs": [],
   "source": [
    "learning_rate = 0.001\n",
    "batch_size = 265\n",
    "hidden_units = 512\n",
    "projection_units = 128\n",
    "num_epochs = 50\n",
    "dropout_rate = 0.5\n",
    "temperature = 0.05"
   ]
  },
  {
   "cell_type": "code",
   "execution_count": 7,
   "id": "satisfactory-bedroom",
   "metadata": {
    "execution": {
     "iopub.execute_input": "2021-04-04T18:11:54.554138Z",
     "iopub.status.busy": "2021-04-04T18:11:54.553603Z",
     "iopub.status.idle": "2021-04-04T18:11:54.557184Z",
     "shell.execute_reply": "2021-04-04T18:11:54.557700Z"
    },
    "papermill": {
     "duration": 0.03069,
     "end_time": "2021-04-04T18:11:54.557824",
     "exception": false,
     "start_time": "2021-04-04T18:11:54.527134",
     "status": "completed"
    },
    "tags": []
   },
   "outputs": [],
   "source": [
    "class SupervisedContrastiveLoss(keras.losses.Loss):\n",
    "    def __init__(self, temperature=1, name=None):\n",
    "        super(SupervisedContrastiveLoss, self).__init__(name=name)\n",
    "        self.temperature = temperature\n",
    "\n",
    "    def __call__(self, labels, feature_vectors, sample_weight=None):\n",
    "        # Normalize feature vectors\n",
    "        feature_vectors_normalized = tf.math.l2_normalize(feature_vectors, axis=1)\n",
    "        # Compute logits\n",
    "        logits = tf.divide(\n",
    "            tf.matmul(\n",
    "                feature_vectors_normalized, tf.transpose(feature_vectors_normalized)\n",
    "            ),\n",
    "            self.temperature,\n",
    "        )\n",
    "        return tfa.losses.npairs_loss(tf.squeeze(labels), logits)\n",
    "\n",
    "\n",
    "def add_projection_head(encoder):\n",
    "    inputs = keras.Input(shape=input_shape)\n",
    "    features = encoder(inputs)\n",
    "    outputs = layers.Dense(projection_units, activation=\"relu\")(features)\n",
    "    model = keras.Model(\n",
    "        inputs=inputs, outputs=outputs, name=\"cifar-encoder_with_projection-head\"\n",
    "    )\n",
    "    return model"
   ]
  },
  {
   "cell_type": "code",
   "execution_count": 8,
   "id": "saving-objective",
   "metadata": {
    "execution": {
     "iopub.execute_input": "2021-04-04T18:11:54.601198Z",
     "iopub.status.busy": "2021-04-04T18:11:54.599886Z",
     "iopub.status.idle": "2021-04-04T18:24:45.783370Z",
     "shell.execute_reply": "2021-04-04T18:24:45.755906Z"
    },
    "papermill": {
     "duration": 771.207335,
     "end_time": "2021-04-04T18:24:45.783548",
     "exception": false,
     "start_time": "2021-04-04T18:11:54.576213",
     "status": "completed"
    },
    "tags": []
   },
   "outputs": [
    {
     "name": "stdout",
     "output_type": "stream",
     "text": [
      "Model: \"cifar-encoder_with_projection-head\"\n",
      "_________________________________________________________________\n",
      "Layer (type)                 Output Shape              Param #   \n",
      "=================================================================\n",
      "input_5 (InputLayer)         [(None, 32, 32, 3)]       0         \n",
      "_________________________________________________________________\n",
      "cifar10-encoder (Functional) (None, 2048)              23564807  \n",
      "_________________________________________________________________\n",
      "dense (Dense)                (None, 128)               262272    \n",
      "=================================================================\n",
      "Total params: 23,827,079\n",
      "Trainable params: 23,781,632\n",
      "Non-trainable params: 45,447\n",
      "_________________________________________________________________\n",
      "Epoch 1/50\n",
      "189/189 [==============================] - 31s 115ms/step - loss: 5.5823\n",
      "Epoch 2/50\n",
      "189/189 [==============================] - 16s 87ms/step - loss: 5.1787\n",
      "Epoch 3/50\n",
      "189/189 [==============================] - 15s 79ms/step - loss: 5.0608\n",
      "Epoch 4/50\n",
      "189/189 [==============================] - 16s 83ms/step - loss: 4.9664\n",
      "Epoch 5/50\n",
      "189/189 [==============================] - 15s 79ms/step - loss: 4.8606\n",
      "Epoch 6/50\n",
      "189/189 [==============================] - 15s 80ms/step - loss: 4.7783\n",
      "Epoch 7/50\n",
      "189/189 [==============================] - 15s 80ms/step - loss: 4.6928\n",
      "Epoch 8/50\n",
      "189/189 [==============================] - 15s 79ms/step - loss: 4.6336\n",
      "Epoch 9/50\n",
      "189/189 [==============================] - 15s 80ms/step - loss: 4.5589\n",
      "Epoch 10/50\n",
      "189/189 [==============================] - 15s 80ms/step - loss: 4.5083\n",
      "Epoch 11/50\n",
      "189/189 [==============================] - 15s 78ms/step - loss: 4.4728\n",
      "Epoch 12/50\n",
      "189/189 [==============================] - 15s 79ms/step - loss: 4.4372\n",
      "Epoch 13/50\n",
      "189/189 [==============================] - 16s 84ms/step - loss: 4.3957\n",
      "Epoch 14/50\n",
      "189/189 [==============================] - 15s 79ms/step - loss: 4.3498\n",
      "Epoch 15/50\n",
      "189/189 [==============================] - 15s 81ms/step - loss: 4.3043\n",
      "Epoch 16/50\n",
      "189/189 [==============================] - 15s 79ms/step - loss: 4.2994\n",
      "Epoch 17/50\n",
      "189/189 [==============================] - 15s 80ms/step - loss: 4.2697\n",
      "Epoch 18/50\n",
      "189/189 [==============================] - 15s 79ms/step - loss: 4.2274\n",
      "Epoch 19/50\n",
      "189/189 [==============================] - 15s 78ms/step - loss: 4.1895\n",
      "Epoch 20/50\n",
      "189/189 [==============================] - 15s 80ms/step - loss: 4.1780\n",
      "Epoch 21/50\n",
      "189/189 [==============================] - 15s 79ms/step - loss: 4.1486\n",
      "Epoch 22/50\n",
      "189/189 [==============================] - 15s 78ms/step - loss: 4.1243\n",
      "Epoch 23/50\n",
      "189/189 [==============================] - 15s 77ms/step - loss: 4.1279\n",
      "Epoch 24/50\n",
      "189/189 [==============================] - 15s 79ms/step - loss: 4.0828\n",
      "Epoch 25/50\n",
      "189/189 [==============================] - 15s 78ms/step - loss: 4.0753\n",
      "Epoch 26/50\n",
      "189/189 [==============================] - 15s 79ms/step - loss: 4.0709\n",
      "Epoch 27/50\n",
      "189/189 [==============================] - 15s 78ms/step - loss: 4.0420\n",
      "Epoch 28/50\n",
      "189/189 [==============================] - 15s 80ms/step - loss: 4.0271\n",
      "Epoch 29/50\n",
      "189/189 [==============================] - 15s 78ms/step - loss: 4.0117\n",
      "Epoch 30/50\n",
      "189/189 [==============================] - 15s 80ms/step - loss: 3.9651\n",
      "Epoch 31/50\n",
      "189/189 [==============================] - 15s 80ms/step - loss: 3.9534\n",
      "Epoch 32/50\n",
      "189/189 [==============================] - 15s 78ms/step - loss: 3.9570\n",
      "Epoch 33/50\n",
      "189/189 [==============================] - 15s 79ms/step - loss: 3.9353\n",
      "Epoch 34/50\n",
      "189/189 [==============================] - 15s 78ms/step - loss: 3.9263\n",
      "Epoch 35/50\n",
      "189/189 [==============================] - 15s 79ms/step - loss: 3.9159\n",
      "Epoch 36/50\n",
      "189/189 [==============================] - 15s 79ms/step - loss: 3.9031\n",
      "Epoch 37/50\n",
      "189/189 [==============================] - 15s 80ms/step - loss: 3.8828\n",
      "Epoch 38/50\n",
      "189/189 [==============================] - 15s 80ms/step - loss: 3.8842\n",
      "Epoch 39/50\n",
      "189/189 [==============================] - 15s 79ms/step - loss: 3.8676\n",
      "Epoch 40/50\n",
      "189/189 [==============================] - 15s 79ms/step - loss: 3.8435\n",
      "Epoch 41/50\n",
      "189/189 [==============================] - 15s 80ms/step - loss: 3.8370\n",
      "Epoch 42/50\n",
      "189/189 [==============================] - 15s 80ms/step - loss: 3.8190\n",
      "Epoch 43/50\n",
      "189/189 [==============================] - 15s 80ms/step - loss: 3.8090\n",
      "Epoch 44/50\n",
      "189/189 [==============================] - 15s 79ms/step - loss: 3.8152\n",
      "Epoch 45/50\n",
      "189/189 [==============================] - 15s 78ms/step - loss: 3.8039\n",
      "Epoch 46/50\n",
      "189/189 [==============================] - 15s 79ms/step - loss: 3.7881\n",
      "Epoch 47/50\n",
      "189/189 [==============================] - 15s 78ms/step - loss: 3.7826\n",
      "Epoch 48/50\n",
      "189/189 [==============================] - 15s 81ms/step - loss: 3.7507\n",
      "Epoch 49/50\n",
      "189/189 [==============================] - 15s 78ms/step - loss: 3.7521\n",
      "Epoch 50/50\n",
      "189/189 [==============================] - 15s 80ms/step - loss: 3.7402\n"
     ]
    }
   ],
   "source": [
    "encoder = create_encoder()\n",
    "\n",
    "encoder_with_projection_head = add_projection_head(encoder)\n",
    "encoder_with_projection_head.compile(\n",
    "    optimizer=keras.optimizers.Adam(learning_rate),\n",
    "    loss=SupervisedContrastiveLoss(temperature),\n",
    ")\n",
    "\n",
    "encoder_with_projection_head.summary()\n",
    "\n",
    "history = encoder_with_projection_head.fit(\n",
    "    x=x_train, y=y_train, batch_size=batch_size, epochs=num_epochs\n",
    ")"
   ]
  },
  {
   "cell_type": "code",
   "execution_count": 9,
   "id": "lovely-above",
   "metadata": {
    "execution": {
     "iopub.execute_input": "2021-04-04T18:24:50.700614Z",
     "iopub.status.busy": "2021-04-04T18:24:50.699717Z",
     "iopub.status.idle": "2021-04-04T18:28:48.420505Z",
     "shell.execute_reply": "2021-04-04T18:28:48.419974Z"
    },
    "papermill": {
     "duration": 240.210678,
     "end_time": "2021-04-04T18:28:48.420698",
     "exception": false,
     "start_time": "2021-04-04T18:24:48.210020",
     "status": "completed"
    },
    "tags": []
   },
   "outputs": [
    {
     "name": "stdout",
     "output_type": "stream",
     "text": [
      "Epoch 1/50\n",
      "189/189 [==============================] - 7s 24ms/step - loss: 0.5030 - sparse_categorical_accuracy: 0.8648\n",
      "Epoch 2/50\n",
      "189/189 [==============================] - 5s 24ms/step - loss: 0.3212 - sparse_categorical_accuracy: 0.9036\n",
      "Epoch 3/50\n",
      "189/189 [==============================] - 5s 24ms/step - loss: 0.3205 - sparse_categorical_accuracy: 0.9027\n",
      "Epoch 4/50\n",
      "189/189 [==============================] - 4s 24ms/step - loss: 0.2983 - sparse_categorical_accuracy: 0.9055\n",
      "Epoch 5/50\n",
      "189/189 [==============================] - 5s 24ms/step - loss: 0.2939 - sparse_categorical_accuracy: 0.9101\n",
      "Epoch 6/50\n",
      "189/189 [==============================] - 5s 24ms/step - loss: 0.2956 - sparse_categorical_accuracy: 0.9061\n",
      "Epoch 7/50\n",
      "189/189 [==============================] - 5s 24ms/step - loss: 0.2956 - sparse_categorical_accuracy: 0.9066\n",
      "Epoch 8/50\n",
      "189/189 [==============================] - 5s 24ms/step - loss: 0.2922 - sparse_categorical_accuracy: 0.9065\n",
      "Epoch 9/50\n",
      "189/189 [==============================] - 5s 24ms/step - loss: 0.2884 - sparse_categorical_accuracy: 0.9116\n",
      "Epoch 10/50\n",
      "189/189 [==============================] - 5s 24ms/step - loss: 0.3014 - sparse_categorical_accuracy: 0.9064\n",
      "Epoch 11/50\n",
      "189/189 [==============================] - 4s 24ms/step - loss: 0.2895 - sparse_categorical_accuracy: 0.9104\n",
      "Epoch 12/50\n",
      "189/189 [==============================] - 4s 24ms/step - loss: 0.2993 - sparse_categorical_accuracy: 0.9050\n",
      "Epoch 13/50\n",
      "189/189 [==============================] - 5s 25ms/step - loss: 0.3013 - sparse_categorical_accuracy: 0.9062\n",
      "Epoch 14/50\n",
      "189/189 [==============================] - 5s 25ms/step - loss: 0.2958 - sparse_categorical_accuracy: 0.9087\n",
      "Epoch 15/50\n",
      "189/189 [==============================] - 5s 24ms/step - loss: 0.3040 - sparse_categorical_accuracy: 0.9056\n",
      "Epoch 16/50\n",
      "189/189 [==============================] - 4s 24ms/step - loss: 0.2894 - sparse_categorical_accuracy: 0.9070\n",
      "Epoch 17/50\n",
      "189/189 [==============================] - 4s 23ms/step - loss: 0.2859 - sparse_categorical_accuracy: 0.9092\n",
      "Epoch 18/50\n",
      "189/189 [==============================] - 5s 24ms/step - loss: 0.2931 - sparse_categorical_accuracy: 0.9073\n",
      "Epoch 19/50\n",
      "189/189 [==============================] - 4s 24ms/step - loss: 0.2912 - sparse_categorical_accuracy: 0.9072\n",
      "Epoch 20/50\n",
      "189/189 [==============================] - 5s 25ms/step - loss: 0.2892 - sparse_categorical_accuracy: 0.9068\n",
      "Epoch 21/50\n",
      "189/189 [==============================] - 5s 25ms/step - loss: 0.3039 - sparse_categorical_accuracy: 0.9046\n",
      "Epoch 22/50\n",
      "189/189 [==============================] - 5s 25ms/step - loss: 0.2848 - sparse_categorical_accuracy: 0.9099\n",
      "Epoch 23/50\n",
      "189/189 [==============================] - 5s 24ms/step - loss: 0.2996 - sparse_categorical_accuracy: 0.9049\n",
      "Epoch 24/50\n",
      "189/189 [==============================] - 5s 24ms/step - loss: 0.2770 - sparse_categorical_accuracy: 0.9122\n",
      "Epoch 25/50\n",
      "189/189 [==============================] - 5s 24ms/step - loss: 0.2852 - sparse_categorical_accuracy: 0.9089\n",
      "Epoch 26/50\n",
      "189/189 [==============================] - 5s 24ms/step - loss: 0.2875 - sparse_categorical_accuracy: 0.9123\n",
      "Epoch 27/50\n",
      "189/189 [==============================] - 5s 25ms/step - loss: 0.2911 - sparse_categorical_accuracy: 0.9074\n",
      "Epoch 28/50\n",
      "189/189 [==============================] - 5s 24ms/step - loss: 0.2920 - sparse_categorical_accuracy: 0.9052\n",
      "Epoch 29/50\n",
      "189/189 [==============================] - 5s 25ms/step - loss: 0.3092 - sparse_categorical_accuracy: 0.9048\n",
      "Epoch 30/50\n",
      "189/189 [==============================] - 5s 24ms/step - loss: 0.2986 - sparse_categorical_accuracy: 0.9037\n",
      "Epoch 31/50\n",
      "189/189 [==============================] - 4s 24ms/step - loss: 0.2813 - sparse_categorical_accuracy: 0.9102\n",
      "Epoch 32/50\n",
      "189/189 [==============================] - 5s 24ms/step - loss: 0.2833 - sparse_categorical_accuracy: 0.9122\n",
      "Epoch 33/50\n",
      "189/189 [==============================] - 5s 24ms/step - loss: 0.2814 - sparse_categorical_accuracy: 0.9090\n",
      "Epoch 34/50\n",
      "189/189 [==============================] - 5s 25ms/step - loss: 0.2970 - sparse_categorical_accuracy: 0.9076\n",
      "Epoch 35/50\n",
      "189/189 [==============================] - 4s 24ms/step - loss: 0.2766 - sparse_categorical_accuracy: 0.9147\n",
      "Epoch 36/50\n",
      "189/189 [==============================] - 5s 24ms/step - loss: 0.2882 - sparse_categorical_accuracy: 0.9065\n",
      "Epoch 37/50\n",
      "189/189 [==============================] - 5s 26ms/step - loss: 0.2888 - sparse_categorical_accuracy: 0.9079\n",
      "Epoch 38/50\n",
      "189/189 [==============================] - 4s 24ms/step - loss: 0.2799 - sparse_categorical_accuracy: 0.9122\n",
      "Epoch 39/50\n",
      "189/189 [==============================] - 5s 24ms/step - loss: 0.2917 - sparse_categorical_accuracy: 0.9088\n",
      "Epoch 40/50\n",
      "189/189 [==============================] - 5s 24ms/step - loss: 0.2914 - sparse_categorical_accuracy: 0.9071\n",
      "Epoch 41/50\n",
      "189/189 [==============================] - 5s 25ms/step - loss: 0.2807 - sparse_categorical_accuracy: 0.9102\n",
      "Epoch 42/50\n",
      "189/189 [==============================] - 4s 24ms/step - loss: 0.3020 - sparse_categorical_accuracy: 0.9055\n",
      "Epoch 43/50\n",
      "189/189 [==============================] - 4s 24ms/step - loss: 0.2992 - sparse_categorical_accuracy: 0.9058\n",
      "Epoch 44/50\n",
      "189/189 [==============================] - 5s 24ms/step - loss: 0.2829 - sparse_categorical_accuracy: 0.9081\n",
      "Epoch 45/50\n",
      "189/189 [==============================] - 5s 25ms/step - loss: 0.2946 - sparse_categorical_accuracy: 0.9065\n",
      "Epoch 46/50\n",
      "189/189 [==============================] - 5s 24ms/step - loss: 0.3028 - sparse_categorical_accuracy: 0.9036\n",
      "Epoch 47/50\n",
      "189/189 [==============================] - 4s 23ms/step - loss: 0.2930 - sparse_categorical_accuracy: 0.9054\n",
      "Epoch 48/50\n",
      "189/189 [==============================] - 5s 25ms/step - loss: 0.2794 - sparse_categorical_accuracy: 0.9131\n",
      "Epoch 49/50\n",
      "189/189 [==============================] - 5s 24ms/step - loss: 0.2949 - sparse_categorical_accuracy: 0.9056\n",
      "Epoch 50/50\n",
      "189/189 [==============================] - 5s 24ms/step - loss: 0.2927 - sparse_categorical_accuracy: 0.9042\n",
      "313/313 [==============================] - 4s 11ms/step - loss: 0.6737 - sparse_categorical_accuracy: 0.8126\n",
      "Test accuracy: 81.26%\n"
     ]
    }
   ],
   "source": [
    "classifier = create_classifier(encoder, trainable=False)\n",
    "\n",
    "history = classifier.fit(x=x_train, y=y_train, batch_size=batch_size, epochs=num_epochs)\n",
    "\n",
    "accuracy = classifier.evaluate(x_test, y_test)[1]\n",
    "print(f\"Test accuracy: {round(accuracy * 100, 2)}%\")"
   ]
  },
  {
   "cell_type": "code",
   "execution_count": null,
   "id": "presidential-mexico",
   "metadata": {
    "papermill": {
     "duration": 3.438127,
     "end_time": "2021-04-04T18:28:55.281226",
     "exception": false,
     "start_time": "2021-04-04T18:28:51.843099",
     "status": "completed"
    },
    "tags": []
   },
   "outputs": [],
   "source": []
  },
  {
   "cell_type": "code",
   "execution_count": null,
   "id": "internal-chemistry",
   "metadata": {
    "papermill": {
     "duration": 3.421738,
     "end_time": "2021-04-04T18:29:02.397830",
     "exception": false,
     "start_time": "2021-04-04T18:28:58.976092",
     "status": "completed"
    },
    "tags": []
   },
   "outputs": [],
   "source": []
  },
  {
   "cell_type": "code",
   "execution_count": null,
   "id": "patent-nerve",
   "metadata": {
    "papermill": {
     "duration": 4.19073,
     "end_time": "2021-04-04T18:29:10.042014",
     "exception": false,
     "start_time": "2021-04-04T18:29:05.851284",
     "status": "completed"
    },
    "tags": []
   },
   "outputs": [],
   "source": []
  }
 ],
 "metadata": {
  "kernelspec": {
   "display_name": "Python 3",
   "language": "python",
   "name": "python3"
  },
  "language_info": {
   "codemirror_mode": {
    "name": "ipython",
    "version": 3
   },
   "file_extension": ".py",
   "mimetype": "text/x-python",
   "name": "python",
   "nbconvert_exporter": "python",
   "pygments_lexer": "ipython3",
   "version": "3.7.9"
  },
  "papermill": {
   "default_parameters": {},
   "duration": 1062.931808,
   "end_time": "2021-04-04T18:29:16.849886",
   "environment_variables": {},
   "exception": null,
   "input_path": "__notebook__.ipynb",
   "output_path": "__notebook__.ipynb",
   "parameters": {},
   "start_time": "2021-04-04T18:11:33.918078",
   "version": "2.3.2"
  }
 },
 "nbformat": 4,
 "nbformat_minor": 5
}
